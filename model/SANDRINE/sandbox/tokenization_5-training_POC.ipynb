{
 "cells": [
  {
   "cell_type": "markdown",
   "metadata": {},
   "source": [
    "# Training"
   ]
  },
  {
   "cell_type": "markdown",
   "metadata": {
    "vscode": {
     "languageId": "plaintext"
    }
   },
   "source": [
    "## Prepa des data"
   ]
  },
  {
   "cell_type": "code",
   "execution_count": 2,
   "metadata": {},
   "outputs": [
    {
     "ename": "LoadError",
     "evalue": "ArgumentError: Package os not found in current path.\n- Run `import Pkg; Pkg.add(\"os\")` to install the os package.",
     "output_type": "error",
     "traceback": [
      "ArgumentError: Package os not found in current path.\n- Run `import Pkg; Pkg.add(\"os\")` to install the os package.",
      "",
      "Stacktrace:",
      " [1] macro expansion",
      "   @ ./loading.jl:1772 [inlined]",
      " [2] macro expansion",
      "   @ ./lock.jl:267 [inlined]",
      " [3] __require(into::Module, mod::Symbol)",
      "   @ Base ./loading.jl:1753",
      " [4] #invoke_in_world#3",
      "   @ ./essentials.jl:926 [inlined]",
      " [5] invoke_in_world",
      "   @ ./essentials.jl:923 [inlined]",
      " [6] require(into::Module, mod::Symbol)",
      "   @ Base ./loading.jl:1746"
     ]
    }
   ],
   "source": [
    "\n",
    "import os\n",
    "import pandas as pd\n",
    "from sklearn.model_selection import train_test_split\n",
    "\n",
    "file_path = \"/jovyan/data/reservation-first-dataset-train.csv\"\n",
    "\n",
    "# Charger les données\n",
    "try:\n",
    "    data = pd.read_csv(file_path)\n",
    "    data = data.fillna('')  # Pour les valeurs NaN possibles\n",
    "    print(\"Fichier chargé avec succès\")\n",
    "except FileNotFoundError:\n",
    "    print(\"Le fichier n'a pas été trouvé. Veuillez vérifier le chemin.\")\n",
    "\n",
    "\n"
   ]
  },
  {
   "cell_type": "markdown",
   "metadata": {},
   "source": [
    "## Tokenisation"
   ]
  },
  {
   "cell_type": "code",
   "execution_count": 15,
   "metadata": {},
   "outputs": [
    {
     "name": "stdout",
     "output_type": "stream",
     "text": [
      "Chemin absolu du fichier: /home/jovyan/model/SANDRINE/data/reservation-first-dataset-train.csv\n",
      "Le fichier n'a pas été trouvé. Veuillez vérifier le chemin.\n",
      "Impossible de traiter les données car elles n'ont pas été chargées.\n"
     ]
    }
   ],
   "source": [
    "import os\n",
    "import pandas as pd\n",
    "from sklearn.model_selection import train_test_split\n",
    "\n",
    "# Chemin relatif pour accéder au fichier CSV dans un dossier `data` adjacent à `sandbox`\n",
    "file_path = os.path.join('..', 'data', 'reservation-first-dataset-train.csv')\n",
    "absolute_file_path = os.path.abspath(file_path)\n",
    "\n",
    "# Afficher le chemin absolu du fichier CSV\n",
    "print(\"Chemin absolu du fichier:\", absolute_file_path)\n",
    "\n",
    "# Charger les données\n",
    "try:\n",
    "    data = pd.read_csv(absolute_file_path)\n",
    "    data = data.fillna('')  # Pour les valeurs NaN possibles\n",
    "    print(\"Fichier chargé avec succès\")\n",
    "    print(\"Aperçu des données :\")\n",
    "    print(data.head())  # Afficher les premières lignes des données pour vérifier leur contenu\n",
    "    print(\"Colonnes des données:\", data.columns)  # Vérifier les colonnes\n",
    "except FileNotFoundError:\n",
    "    print(\"Le fichier n'a pas été trouvé. Veuillez vérifier le chemin.\")\n",
    "    data = None\n",
    "\n",
    "# Assurez-vous que data est bien défini avant de continuer\n",
    "if data is not None:\n",
    "    sentences = []\n",
    "    tags = []\n",
    "\n",
    "    for idx, row in data.iterrows():\n",
    "        phrase = row['Phrase']\n",
    "        depart = row['Départ']\n",
    "        arrivee = row['Arrivée']\n",
    "\n",
    "        words = phrase.split()\n",
    "        tag_sequence = []\n",
    "\n",
    "        for word in words:\n",
    "            if word in depart.split():\n",
    "                tag_sequence.append(\"B-Départ\")\n",
    "            elif word in arrivee.split():\n",
    "                tag_sequence.append(\"B-Arrivée\")\n",
    "            else:\n",
    "                tag_sequence.append(\"O\")\n",
    "\n",
    "        sentences.append(words)\n",
    "        tags.append(tag_sequence)\n",
    "\n",
    "    # Split data into train and test sets\n",
    "    train_sentences, val_sentences, train_tags, val_tags = train_test_split(sentences, tags, test_size=0.1)\n",
    "\n",
    "    print(\"Nombre de phrases d'entraînement:\", len(train_sentences))\n",
    "    print(\"Nombre de phrases de validation:\", len(val_sentences))\n",
    "else:\n",
    "    print(\"Impossible de traiter les données car elles n'ont pas été chargées.\")\n"
   ]
  },
  {
   "cell_type": "markdown",
   "metadata": {},
   "source": [
    "## Construction et Entraînement du Modèle TensorFlow"
   ]
  },
  {
   "cell_type": "code",
   "execution_count": null,
   "metadata": {},
   "outputs": [],
   "source": [
    "\n",
    "from transformers import TFAutoModelForTokenClassification\n",
    "from transformers import create_optimizer\n",
    "import tensorflow_addons as tfa\n",
    "\n",
    "# Charger un modèle pré-entraîné adapté pour la classification des tokens\n",
    "model = TFAutoModelForTokenClassification.from_pretrained('camembert-base', num_labels=len(label_list))\n",
    "\n",
    "# Optimizer et Schedule de l'apprentissage\n",
    "batch_size = 8\n",
    "num_train_steps = len(train_tokenized[\"input_ids\"]) // batch_size * 3  # 3 epochs\n",
    "num_warmup_steps = num_train_steps // 10\n",
    "\n",
    "optimizer, schedule = create_optimizer(init_lr=2e-5, num_train_steps=num_train_steps, num_warmup_steps=num_warmup_steps)\n",
    "\n",
    "model.compile(optimizer=optimizer, loss=model.compute_loss, metrics=['accuracy'])\n",
    "\n",
    "# Préparer les datasets TensorFlow\n",
    "train_dataset = tf.data.Dataset.from_tensor_slices((dict(train_tokenized), train_tokenized[\"labels\"]))\n",
    "val_dataset = tf.data.Dataset.from_tensor_slices((dict(val_tokenized), val_tokenized[\"labels\"]))\n",
    "\n",
    "train_dataset = train_dataset.shuffle(100).batch(batch_size).prefetch(tf.data.AUTOTUNE)\n",
    "val_dataset = val_dataset.batch(batch_size).prefetch(tf.data.AUTOTUNE)\n",
    "\n",
    "# Entraîner le modèle\n",
    "history = model.fit(train_dataset, validation_data=val_dataset, epochs=3)\n"
   ]
  },
  {
   "cell_type": "markdown",
   "metadata": {},
   "source": [
    "# Évaluation du Modèle"
   ]
  },
  {
   "cell_type": "code",
   "execution_count": null,
   "metadata": {},
   "outputs": [],
   "source": [
    "\n",
    "import numpy as np\n",
    "\n",
    "# Prédire sur le jeu de validation\n",
    "predictions = model.predict(val_dataset)\n",
    "predictions = np.argmax(predictions.logits, axis=-1)\n",
    "\n",
    "true_labels = [[label_list[label] for label in labels if label != -100] for labels in val_tokenized[\"labels\"]]\n",
    "predicted_labels = [[label_list[p] for (p, l) in zip(prediction, labels) if l != -100] for prediction, labels in zip(predictions, val_tokenized[\"labels\"])]\n",
    "\n",
    "# Afficher un rapport de classification\n",
    "from sklearn.metrics import classification_report\n",
    "print(classification_report(true_labels, predicted_labels))\n"
   ]
  }
 ],
 "metadata": {
  "kernelspec": {
   "display_name": "Julia 1.10.1",
   "language": "julia",
   "name": "julia-1.10"
  },
  "language_info": {
   "file_extension": ".jl",
   "mimetype": "application/julia",
   "name": "julia",
   "version": "1.10.1"
  }
 },
 "nbformat": 4,
 "nbformat_minor": 4
}
